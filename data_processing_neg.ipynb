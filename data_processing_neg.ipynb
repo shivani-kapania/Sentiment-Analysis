{
 "cells": [
  {
   "cell_type": "code",
   "execution_count": 1,
   "metadata": {},
   "outputs": [],
   "source": [
    "import numpy as np\n",
    "from matplotlib import pyplot as plt\n",
    "%matplotlib inline\n",
    "import re\n",
    "import spacy"
   ]
  },
  {
   "cell_type": "code",
   "execution_count": 3,
   "metadata": {},
   "outputs": [],
   "source": [
    "f = open('movie_review/rt-polarity.neg', encoding='ISO-8859-1')\n",
    "ds = f.read()\n",
    "f.close()"
   ]
  },
  {
   "cell_type": "code",
   "execution_count": 4,
   "metadata": {},
   "outputs": [
    {
     "name": "stdout",
     "output_type": "stream",
     "text": [
      "5331\n"
     ]
    }
   ],
   "source": [
    "ds = ds.lower()\n",
    "data = re.sub('[^a-z 0-9\\n \\'-/]+', '', ds)\n",
    "data = re.sub('[- .]+', ' ', data)\n",
    "text = data.split('\\n')[:-1]\n",
    "print(len(text))\n",
    "#for ix in range(10)"
   ]
  },
  {
   "cell_type": "code",
   "execution_count": 5,
   "metadata": {},
   "outputs": [],
   "source": [
    "word_vec = spacy.load('en_vectors_web_lg')"
   ]
  },
  {
   "cell_type": "code",
   "execution_count": 6,
   "metadata": {},
   "outputs": [
    {
     "name": "stdout",
     "output_type": "stream",
     "text": [
      "a sentimental mess that never rings true \n"
     ]
    }
   ],
   "source": [
    "q = word_vec(str(text[10]))\n",
    "print(q)\n",
    "#for ix in q:\n",
    "#    print(ix, ix.vector.mean())"
   ]
  },
  {
   "cell_type": "code",
   "execution_count": 7,
   "metadata": {},
   "outputs": [],
   "source": [
    "l = []\n",
    "\n",
    "for ix in text:\n",
    "    l.append(len(word_vec(str(ix))))"
   ]
  },
  {
   "cell_type": "code",
   "execution_count": 8,
   "metadata": {},
   "outputs": [
    {
     "data": {
      "text/plain": [
       "[<matplotlib.lines.Line2D at 0x194f69e80>]"
      ]
     },
     "execution_count": 8,
     "metadata": {},
     "output_type": "execute_result"
    },
    {
     "data": {
      "image/png": "[encoded data removed]",
      "text/plain": [
       "<Figure size 432x288 with 1 Axes>"
      ]
     },
     "metadata": {
      "needs_background": "light"
     },
     "output_type": "display_data"
    }
   ],
   "source": [
    "d = np.unique(l, return_counts=True)\n",
    "\n",
    "plt.plot(d[0], d[1])"
   ]
  },
  {
   "cell_type": "code",
   "execution_count": 9,
   "metadata": {},
   "outputs": [
    {
     "name": "stdout",
     "output_type": "stream",
     "text": [
      "4079\n"
     ]
    }
   ],
   "source": [
    "s = 0\n",
    "lower_limit = 10\n",
    "upper_limit = 35\n",
    "for ix in range(len(d[0])):\n",
    "    sl = d[0][ix]\n",
    "    if sl > lower_limit and sl < upper_limit:\n",
    "        s += d[1][ix]\n",
    "print(s)"
   ]
  },
  {
   "cell_type": "code",
   "execution_count": 10,
   "metadata": {},
   "outputs": [],
   "source": [
    "def sequence_to_mat(seq):\n",
    "    vec_seq = word_vec(str(seq))\n",
    "    if len(vec_seq) > lower_limit and len(vec_seq) < upper_limit:\n",
    "        m = np.ones((upper_limit-1, 300))*5.0\n",
    "        \n",
    "        for ix in range(len(vec_seq)):\n",
    "            m[ix, :] = vec_seq[ix].vector\n",
    "        return m\n",
    "    else:\n",
    "        return None"
   ]
  },
  {
   "cell_type": "code",
   "execution_count": 11,
   "metadata": {},
   "outputs": [],
   "source": [
    "mat = []\n",
    "\n",
    "for ix in text:\n",
    "    seq_mat = sequence_to_mat(ix)\n",
    "    \n",
    "    if seq_mat is not None:\n",
    "        mat.append(seq_mat)"
   ]
  },
  {
   "cell_type": "code",
   "execution_count": 12,
   "metadata": {},
   "outputs": [
    {
     "name": "stdout",
     "output_type": "stream",
     "text": [
      "(4079, 34, 300)\n"
     ]
    }
   ],
   "source": [
    "mat = np.asarray(mat)\n",
    "print(mat.shape)\n",
    "np.save('movie_review/negative', mat)"
   ]
  },
  {
   "cell_type": "code",
   "execution_count": null,
   "metadata": {},
   "outputs": [],
   "source": []
  }
 ],
 "metadata": {
  "kernelspec": {
   "display_name": "Python 3",
   "language": "python",
   "name": "python3"
  },
  "language_info": {
   "codemirror_mode": {
    "name": "ipython",
    "version": 3
   },
   "file_extension": ".py",
   "mimetype": "text/x-python",
   "name": "python",
   "nbconvert_exporter": "python",
   "pygments_lexer": "ipython3",
   "version": "3.7.2"
  }
 },
 "nbformat": 4,
 "nbformat_minor": 2
}
